{
 "cells": [
  {
   "cell_type": "markdown",
   "id": "average-eleven",
   "metadata": {},
   "source": [
    "# Invariants of semistable objects\n",
    "$\\def\\bb{\\mathbb}$\n",
    "We assume that for any \"stability function\" $z:\\bb Z^r\\to\\bb C$ and for any \"dimension vector\" $d\\in\\bb N^r$ we have a \"stacky\" invariant $A_z(d)\\in\\bb Q(y)$ \"counting\" $z$-semistable objects.\n",
    "$\\def\\ang#1{\\left<#1\\right>}$\n",
    "We assume that the lattice $\\bb Z^r$ is equipped with a skew-symmetric form $\\ang{-,-}$ and we equip $\\bb Q(y)[x_1,\\dots,x_r]$ with the corresponding twisted product (the quantum affine plane).\n",
    "The above invariants are assumed to satisfy the property that (in the quantum affine plane)\n",
    "$$A_{total}=\\prod^\\to_{\\ell}A_{z,\\ell},\\qquad A_{z,\\ell}=1+\\sum_{z(d)\\in\\ell}A_z(d)x^d,$$\n",
    "is independent of $z$, where the product runs over rays $\\ell$ in the upper half-plane ordered clockwise.\n",
    "We can compute invariants $A_z(d)$ for any $z$ if they are known for one $z$, in particular, if $A_{total}$ is known\n",
    "(we can use the algorithm from [arXiv:math/0204059](https://arxiv.org/abs/math/0204059)).\n",
    "Such transformations between invariants for different stability parameters are known as wall-crossing formulas and are computed here.\n",
    "\n",
    "$\\def\\Om{\\Omega}\\def\\Exp{\\operatorname{Exp}}\\def\\rbr#1{\\left(#1\\right)}$\n",
    "We are also interested in invariants $\\bar\\Om_z(d)$, $\\Om_z(d)$ (rational and integer DT invariants respectively) given by the formulas\n",
    "$$A_{z,\\ell}=\\exp\\rbr{\\frac{\\sum_{z(d)\\in\\ell}\\bar\\Om_z(d)x^d}{y^{-1}-y}}\n",
    "=\\Exp\\rbr{\\frac{\\sum_{z(d)\\in\\ell}\\Om_z(d)x^d}{y^{-1}-y}}.$$\n",
    "\n",
    "For a quiver $Q$ without relations, we have\n",
    "$$A_z(d)=(-y)^{\\chi(d,d)}\\frac{[R_z(Q,d)]}{[GL_d]},$$\n",
    "where\n",
    "$\\chi$ is the Euler form of $Q$\n",
    "and $R_z(Q,d)\\subset R(Q,d)=\\bigoplus_{a:i\\to j}Hom(k^{d_i},k^{d_j})$ is a subspace of $z$-semistable representations. \n",
    "In particular, for the trivial stability $z$, we have $R_{z}(Q,d)=R(Q,d)$ and immediately obtain $A_{total}(d)$. \n",
    "This formula can be used to compute all other invariants."
   ]
  },
  {
   "cell_type": "code",
   "execution_count": 1,
   "id": "second-medicare",
   "metadata": {},
   "outputs": [],
   "source": [
    "import os, sys\n",
    "module_path = os.path.abspath(os.path.join('..'))\n",
    "if module_path not in sys.path:\n",
    "    sys.path.append(module_path)\n",
    "from msinvar import *\n",
    "set_plots()"
   ]
  },
  {
   "cell_type": "markdown",
   "id": "immune-valve",
   "metadata": {},
   "source": [
    "### Some tests"
   ]
  },
  {
   "cell_type": "markdown",
   "id": "agricultural-fruit",
   "metadata": {},
   "source": [
    "Define the quiver $1\\to2$ and the corresponding wall-crossing structure for dimension vectors $\\le(3,3)$:"
   ]
  },
  {
   "cell_type": "code",
   "execution_count": 3,
   "id": "authentic-sunset",
   "metadata": {},
   "outputs": [
    {
     "data": {
      "image/png": "[encoded data removed]",
      "text/plain": [
       "Graphics object consisting of 4 graphics primitives"
      ]
     },
     "metadata": {},
     "output_type": "display_data"
    }
   ],
   "source": [
    "Q=Quiver('1-2', prec=[2,2]); show(Q)"
   ]
  },
  {
   "cell_type": "markdown",
   "id": "meaning-berlin",
   "metadata": {},
   "source": [
    "Total stacky invariants (corresponding to the trivial stability parameter):"
   ]
  },
  {
   "cell_type": "code",
   "execution_count": 4,
   "id": "advanced-arthritis",
   "metadata": {},
   "outputs": [
    {
     "data": {
      "text/plain": [
       "{(0, 0): 1,\n",
       " (1, 0): y/(-y^2 + 1),\n",
       " (2, 0): y^2/(y^6 - y^4 - y^2 + 1),\n",
       " (0, 1): y/(-y^2 + 1),\n",
       " (1, 1): y^3/(-y^4 + 2*y^2 - 1),\n",
       " (2, 1): y^5/(-y^8 + 2*y^6 - 2*y^2 + 1),\n",
       " (0, 2): y^2/(y^6 - y^4 - y^2 + 1),\n",
       " (1, 2): y^5/(-y^8 + 2*y^6 - 2*y^2 + 1),\n",
       " (2, 2): y^8/(y^12 - 2*y^10 - y^8 + 4*y^6 - y^4 - 2*y^2 + 1)}"
      ]
     },
     "execution_count": 4,
     "metadata": {},
     "output_type": "execute_result"
    }
   ],
   "source": [
    "A=Q.total(); A.dict()"
   ]
  },
  {
   "cell_type": "markdown",
   "id": "clear-resort",
   "metadata": {},
   "source": [
    "Stacky invariants for the stability parameter $z=(1,0)$:"
   ]
  },
  {
   "cell_type": "code",
   "execution_count": 5,
   "id": "ecological-inside",
   "metadata": {
    "tags": []
   },
   "outputs": [
    {
     "name": "stdout",
     "output_type": "stream",
     "text": [
      "Stability function [[1, 0], [1, 1]]\n"
     ]
    },
    {
     "data": {
      "text/plain": [
       "{(0, 0): 1,\n",
       " (1, 0): y/(-y^2 + 1),\n",
       " (2, 0): y^2/(y^6 - y^4 - y^2 + 1),\n",
       " (0, 1): y/(-y^2 + 1),\n",
       " (1, 1): (-y)/(y^2 - 1),\n",
       " (0, 2): y^2/(y^6 - y^4 - y^2 + 1),\n",
       " (2, 2): y^2/(y^6 - y^4 - y^2 + 1)}"
      ]
     },
     "execution_count": 5,
     "metadata": {},
     "output_type": "execute_result"
    }
   ],
   "source": [
    "z=Stability([1,0]); print(z)\n",
    "I=Q.stacky(z)\n",
    "I.dict()"
   ]
  },
  {
   "cell_type": "markdown",
   "id": "rolled-cameroon",
   "metadata": {},
   "source": [
    "Integer DT invariants for the stability $z=(1,0)$. Note that there are just $3$ stable objects:"
   ]
  },
  {
   "cell_type": "code",
   "execution_count": 6,
   "id": "gross-saudi",
   "metadata": {},
   "outputs": [
    {
     "data": {
      "text/plain": [
       "{(1, 0): 1, (0, 1): 1, (1, 1): 1}"
      ]
     },
     "execution_count": 6,
     "metadata": {},
     "output_type": "execute_result"
    }
   ],
   "source": [
    "I1=Q.stk2int(I)\n",
    "I1.dict()"
   ]
  },
  {
   "cell_type": "code",
   "execution_count": 7,
   "id": "modular-confidentiality",
   "metadata": {},
   "outputs": [
    {
     "data": {
      "text/plain": [
       "x0 + x1 + x0*x1"
      ]
     },
     "execution_count": 7,
     "metadata": {},
     "output_type": "execute_result"
    }
   ],
   "source": [
    "y=Q.y\n",
    "I.series().pLog()*(1/y-y) #direct computation as series"
   ]
  },
  {
   "cell_type": "markdown",
   "id": "rubber-anatomy",
   "metadata": {},
   "source": [
    "Integer DT invariants for the stability parameter $z=(0,1)$. Note that there are just $2$ stable objects:"
   ]
  },
  {
   "cell_type": "code",
   "execution_count": 8,
   "id": "broken-ultimate",
   "metadata": {
    "tags": []
   },
   "outputs": [
    {
     "data": {
      "text/plain": [
       "{(1, 0): 1, (0, 1): 1}"
      ]
     },
     "execution_count": 8,
     "metadata": {},
     "output_type": "execute_result"
    }
   ],
   "source": [
    "I2=Q.stk2int(Q.stacky([0,1]))\n",
    "I2.dict()"
   ]
  },
  {
   "cell_type": "markdown",
   "id": "administrative-reverse",
   "metadata": {},
   "source": [
    "### Kronecker quiver"
   ]
  },
  {
   "cell_type": "code",
   "execution_count": 9,
   "id": "divine-newport",
   "metadata": {},
   "outputs": [
    {
     "data": {
      "image/png": "[encoded data removed]",
      "text/plain": [
       "Graphics object consisting of 6 graphics primitives"
      ]
     },
     "metadata": {},
     "output_type": "display_data"
    }
   ],
   "source": [
    "Q=KroneckerQuiver(2,prec=[3,3]); show(Q)"
   ]
  },
  {
   "cell_type": "markdown",
   "id": "protected-assist",
   "metadata": {},
   "source": [
    "Integer DT invariants for $z=(1,0)$:"
   ]
  },
  {
   "cell_type": "code",
   "execution_count": 10,
   "id": "thirty-constitution",
   "metadata": {},
   "outputs": [
    {
     "data": {
      "text/plain": [
       "{(1, 0): 1,\n",
       " (0, 1): 1,\n",
       " (1, 1): (-y^2 - 1)/y,\n",
       " (2, 1): 1,\n",
       " (1, 2): 1,\n",
       " (3, 2): 1,\n",
       " (2, 3): 1}"
      ]
     },
     "execution_count": 10,
     "metadata": {},
     "output_type": "execute_result"
    }
   ],
   "source": [
    "I=Q.stk2int(Q.stacky([1,0]))\n",
    "I.dict()"
   ]
  },
  {
   "cell_type": "code",
   "execution_count": 11,
   "id": "foster-default",
   "metadata": {},
   "outputs": [
    {
     "data": {
      "text/plain": [
       "{(1, 0): 1,\n",
       " (0, 1): 1,\n",
       " (1, 1): (-y^2 - 1)/y,\n",
       " (2, 1): 1,\n",
       " (1, 2): 1,\n",
       " (3, 2): 1,\n",
       " (2, 3): 1}"
      ]
     },
     "execution_count": 11,
     "metadata": {},
     "output_type": "execute_result"
    }
   ],
   "source": [
    "Q.Om([1,0]).dict() #the same computation"
   ]
  },
  {
   "cell_type": "markdown",
   "id": "floating-history",
   "metadata": {},
   "source": [
    "Integer DT invariants for $z=(0,1)$:"
   ]
  },
  {
   "cell_type": "code",
   "execution_count": 12,
   "id": "coastal-tamil",
   "metadata": {},
   "outputs": [
    {
     "data": {
      "text/plain": [
       "{(1, 0): 1, (0, 1): 1}"
      ]
     },
     "execution_count": 12,
     "metadata": {},
     "output_type": "execute_result"
    }
   ],
   "source": [
    "I=Q.stk2int(Q.stacky([0,1]))\n",
    "I.dict()"
   ]
  },
  {
   "cell_type": "markdown",
   "id": "beginning-official",
   "metadata": {},
   "source": [
    "### Cyclic quiver with 2 vertices"
   ]
  },
  {
   "cell_type": "code",
   "execution_count": 13,
   "id": "level-holly",
   "metadata": {},
   "outputs": [
    {
     "data": {
      "image/png": "[encoded data removed]",
      "text/plain": [
       "Graphics object consisting of 6 graphics primitives"
      ]
     },
     "metadata": {},
     "output_type": "display_data"
    }
   ],
   "source": [
    "Q=CyclicQuiver(2,prec=[3,3]); show(Q)"
   ]
  },
  {
   "cell_type": "code",
   "execution_count": 14,
   "id": "unknown-modem",
   "metadata": {},
   "outputs": [
    {
     "data": {
      "text/plain": [
       "{(1, 0): 1, (0, 1): 1, (1, 1): -y}"
      ]
     },
     "execution_count": 14,
     "metadata": {},
     "output_type": "execute_result"
    }
   ],
   "source": [
    "Q.stk2int(Q.stacky([1,0])).dict()"
   ]
  },
  {
   "cell_type": "code",
   "execution_count": 15,
   "id": "naughty-fleece",
   "metadata": {},
   "outputs": [
    {
     "data": {
      "text/plain": [
       "{(1, 1): y^2}"
      ]
     },
     "execution_count": 15,
     "metadata": {},
     "output_type": "execute_result"
    }
   ],
   "source": [
    "I=Q.stable([1,0], slope=1/2) #based on arXiv:0708.1259\n",
    "I.dict()"
   ]
  },
  {
   "cell_type": "markdown",
   "id": "higher-trunk",
   "metadata": {},
   "source": [
    "### 3-Kronecker quiver"
   ]
  },
  {
   "cell_type": "code",
   "execution_count": 16,
   "id": "external-globe",
   "metadata": {},
   "outputs": [
    {
     "data": {
      "image/png": "[encoded data removed]",
      "text/plain": [
       "Graphics object consisting of 7 graphics primitives"
      ]
     },
     "metadata": {},
     "output_type": "display_data"
    }
   ],
   "source": [
    "Q=KroneckerQuiver(3,prec=[3,3]); show(Q)"
   ]
  },
  {
   "cell_type": "code",
   "execution_count": 17,
   "id": "requested-choir",
   "metadata": {},
   "outputs": [
    {
     "data": {
      "text/plain": [
       "{(1, 0): 1,\n",
       " (0, 1): 1,\n",
       " (1, 1): (y^4 + y^2 + 1)/y^2,\n",
       " (2, 1): (y^4 + y^2 + 1)/y^2,\n",
       " (1, 2): (y^4 + y^2 + 1)/y^2,\n",
       " (2, 2): (-y^10 - y^8 - y^6 - y^4 - y^2 - 1)/y^5}"
      ]
     },
     "execution_count": 17,
     "metadata": {},
     "output_type": "execute_result"
    }
   ],
   "source": [
    "Q.Om([1,0]).simp().dict([2,2])"
   ]
  },
  {
   "cell_type": "code",
   "execution_count": null,
   "id": "interested-kenya",
   "metadata": {},
   "outputs": [],
   "source": []
  }
 ],
 "metadata": {
  "author": {
   "name": "Sergey Mozgovoy"
  },
  "kernelspec": {
   "display_name": "SageMath 9.2",
   "language": "sage",
   "name": "sagemath"
  },
  "language_info": {
   "codemirror_mode": {
    "name": "ipython",
    "version": 3
   },
   "file_extension": ".py",
   "mimetype": "text/x-python",
   "name": "python",
   "nbconvert_exporter": "python",
   "pygments_lexer": "ipython3",
   "version": "3.8.5"
  },
  "title": "Wall-crossing formulas"
 },
 "nbformat": 4,
 "nbformat_minor": 5
}
