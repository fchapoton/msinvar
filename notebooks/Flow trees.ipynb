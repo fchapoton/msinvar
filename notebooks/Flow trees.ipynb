{
 "cells": [
  {
   "cell_type": "markdown",
   "id": "upset-colorado",
   "metadata": {},
   "source": [
    "## Flow tree formulas\n",
    "Here we will test the attractor tree formula (see [arXiv:1910.03098](https://arxiv.org/abs/1910.03098) and [arXiv:2101.07636](https://arxiv.org/abs/2101.07636)) and the flow tree formula (see [arXiv:1804.06928](https://arxiv.org/abs/1804.06928) and [arXiv:2102.11200](https://arxiv.org/abs/2102.11200)). They allow us to find rational DT invariants for any stability parameter from rational attractor invariants.\n",
    "We will compare these computations to the algoithm from [arXiv:math/0204059](https://arxiv.org/abs/math/0204059) that allows us to find the same invariants from the total invariant (stacky invariant for the trivial stability). We will also compare implementation speeds of all algorithms."
   ]
  },
  {
   "cell_type": "code",
   "execution_count": 1,
   "id": "entitled-description",
   "metadata": {},
   "outputs": [],
   "source": [
    "import os\n",
    "import sys\n",
    "module_path = os.path.abspath(os.path.join('..'))\n",
    "if module_path not in sys.path:\n",
    "    sys.path.append(module_path)\n",
    "from msinvar import *"
   ]
  },
  {
   "cell_type": "code",
   "execution_count": 2,
   "id": "russian-speaking",
   "metadata": {},
   "outputs": [],
   "source": [
    "Q=KroneckerQuiver(3)\n",
    "W=Q.wcs([4,4])\n",
    "z=Stability([1,0])"
   ]
  },
  {
   "cell_type": "code",
   "execution_count": 3,
   "id": "beneficial-garbage",
   "metadata": {},
   "outputs": [
    {
     "name": "stdout",
     "output_type": "stream",
     "text": [
      "CPU times: user 28 s, sys: 73.7 ms, total: 28.1 s\n",
      "Wall time: 27.8 s\n"
     ]
    },
    {
     "data": {
      "text/plain": [
       "{(1, 0): 1,\n",
       " (2, 0): 1/2*y/(y^2 + 1),\n",
       " (3, 0): 1/3*y^2/(y^4 + y^2 + 1),\n",
       " (4, 0): 1/4*y^3/(y^6 + y^4 + y^2 + 1),\n",
       " (0, 1): 1,\n",
       " (1, 1): (y^4 + y^2 + 1)/y^2,\n",
       " (2, 1): (y^4 + y^2 + 1)/y^2,\n",
       " (3, 1): 1,\n",
       " (0, 2): 1/2*y/(y^2 + 1),\n",
       " (1, 2): (y^4 + y^2 + 1)/y^2,\n",
       " (2,\n",
       "  2): (-y^12 - 3/2*y^10 - 2*y^8 - 3/2*y^6 - 2*y^4 - 3/2*y^2 - 1)/(y^7 + y^5),\n",
       " (3, 2): (y^12 + y^10 + 3*y^8 + 3*y^6 + 3*y^4 + y^2 + 1)/y^6,\n",
       " (4,\n",
       "  2): (-y^12 - 3/2*y^10 - 2*y^8 - 3/2*y^6 - 2*y^4 - 3/2*y^2 - 1)/(y^7 + y^5),\n",
       " (0, 3): 1/3*y^2/(y^4 + y^2 + 1),\n",
       " (1, 3): 1,\n",
       " (2, 3): (y^12 + y^10 + 3*y^8 + 3*y^6 + 3*y^4 + y^2 + 1)/y^6,\n",
       " (3,\n",
       "  3): (y^24 + 2*y^22 + 4*y^20 + 16/3*y^18 + 6*y^16 + 6*y^14 + 19/3*y^12 + 6*y^10 + 6*y^8 + 16/3*y^6 + 4*y^4 + 2*y^2 + 1)/(y^14 + y^12 + y^10),\n",
       " (4,\n",
       "  3): (y^24 + y^22 + 3*y^20 + 5*y^18 + 8*y^16 + 10*y^14 + 12*y^12 + 10*y^10 + 8*y^8 + 5*y^6 + 3*y^4 + y^2 + 1)/y^12,\n",
       " (0, 4): 1/4*y^3/(y^6 + y^4 + y^2 + 1),\n",
       " (2,\n",
       "  4): (-y^12 - 3/2*y^10 - 2*y^8 - 3/2*y^6 - 2*y^4 - 3/2*y^2 - 1)/(y^7 + y^5),\n",
       " (3,\n",
       "  4): (y^24 + y^22 + 3*y^20 + 5*y^18 + 8*y^16 + 10*y^14 + 12*y^12 + 10*y^10 + 8*y^8 + 5*y^6 + 3*y^4 + y^2 + 1)/y^12,\n",
       " (4,\n",
       "  4): (-y^40 - 2*y^38 - 5*y^36 - 9*y^34 - 29/2*y^32 - 19*y^30 - 95/4*y^28 - 26*y^26 - 28*y^24 - 28*y^22 - 115/4*y^20 - 28*y^18 - 28*y^16 - 26*y^14 - 95/4*y^12 - 19*y^10 - 29/2*y^8 - 9*y^6 - 5*y^4 - 2*y^2 - 1)/(y^23 + y^21 + y^19 + y^17)}"
      ]
     },
     "execution_count": 3,
     "metadata": {},
     "output_type": "execute_result"
    }
   ],
   "source": [
    "Omb1=attr_tree_formula(W,z,W.ratAtt_default())\n",
    "%time Omb1.dict()"
   ]
  },
  {
   "cell_type": "code",
   "execution_count": 4,
   "id": "elder-dutch",
   "metadata": {},
   "outputs": [
    {
     "name": "stdout",
     "output_type": "stream",
     "text": [
      "CPU times: user 1min 34s, sys: 113 ms, total: 1min 34s\n",
      "Wall time: 1min 34s\n"
     ]
    },
    {
     "data": {
      "text/plain": [
       "{(1, 0): 1,\n",
       " (2, 0): 1/2*y/(y^2 + 1),\n",
       " (3, 0): 1/3*y^2/(y^4 + y^2 + 1),\n",
       " (4, 0): 1/4*y^3/(y^6 + y^4 + y^2 + 1),\n",
       " (0, 1): 1,\n",
       " (1, 1): (y^4 + y^2 + 1)/y^2,\n",
       " (2, 1): (y^4 + y^2 + 1)/y^2,\n",
       " (3, 1): 1,\n",
       " (0, 2): 1/2*y/(y^2 + 1),\n",
       " (1, 2): (y^4 + y^2 + 1)/y^2,\n",
       " (2,\n",
       "  2): (-y^12 - 3/2*y^10 - 2*y^8 - 3/2*y^6 - 2*y^4 - 3/2*y^2 - 1)/(y^7 + y^5),\n",
       " (3, 2): (y^12 + y^10 + 3*y^8 + 3*y^6 + 3*y^4 + y^2 + 1)/y^6,\n",
       " (4,\n",
       "  2): (-y^12 - 3/2*y^10 - 2*y^8 - 3/2*y^6 - 2*y^4 - 3/2*y^2 - 1)/(y^7 + y^5),\n",
       " (0, 3): 1/3*y^2/(y^4 + y^2 + 1),\n",
       " (1, 3): 1,\n",
       " (2, 3): (y^12 + y^10 + 3*y^8 + 3*y^6 + 3*y^4 + y^2 + 1)/y^6,\n",
       " (3,\n",
       "  3): (y^24 + 2*y^22 + 4*y^20 + 16/3*y^18 + 6*y^16 + 6*y^14 + 19/3*y^12 + 6*y^10 + 6*y^8 + 16/3*y^6 + 4*y^4 + 2*y^2 + 1)/(y^14 + y^12 + y^10),\n",
       " (4,\n",
       "  3): (y^24 + y^22 + 3*y^20 + 5*y^18 + 8*y^16 + 10*y^14 + 12*y^12 + 10*y^10 + 8*y^8 + 5*y^6 + 3*y^4 + y^2 + 1)/y^12,\n",
       " (0, 4): 1/4*y^3/(y^6 + y^4 + y^2 + 1),\n",
       " (2,\n",
       "  4): (-y^12 - 3/2*y^10 - 2*y^8 - 3/2*y^6 - 2*y^4 - 3/2*y^2 - 1)/(y^7 + y^5),\n",
       " (3,\n",
       "  4): (y^24 + y^22 + 3*y^20 + 5*y^18 + 8*y^16 + 10*y^14 + 12*y^12 + 10*y^10 + 8*y^8 + 5*y^6 + 3*y^4 + y^2 + 1)/y^12,\n",
       " (4,\n",
       "  4): (-y^40 - 2*y^38 - 5*y^36 - 9*y^34 - 29/2*y^32 - 19*y^30 - 95/4*y^28 - 26*y^26 - 28*y^24 - 28*y^22 - 115/4*y^20 - 28*y^18 - 28*y^16 - 26*y^14 - 95/4*y^12 - 19*y^10 - 29/2*y^8 - 9*y^6 - 5*y^4 - 2*y^2 - 1)/(y^23 + y^21 + y^19 + y^17)}"
      ]
     },
     "execution_count": 4,
     "metadata": {},
     "output_type": "execute_result"
    }
   ],
   "source": [
    "Omb2=flow_tree_formula(W,z,W.ratAtt_default())\n",
    "%time Omb2.dict()"
   ]
  },
  {
   "cell_type": "code",
   "execution_count": 10,
   "id": "fitting-recorder",
   "metadata": {},
   "outputs": [
    {
     "name": "stdout",
     "output_type": "stream",
     "text": [
      "CPU times: user 92.4 ms, sys: 2.24 ms, total: 94.7 ms\n",
      "Wall time: 93.8 ms\n"
     ]
    },
    {
     "data": {
      "text/plain": [
       "{(1, 0): 1,\n",
       " (2, 0): 1/2*y/(y^2 + 1),\n",
       " (3, 0): 1/3*y^2/(y^4 + y^2 + 1),\n",
       " (4, 0): (-1/4*y^3)/(-y^6 - y^4 - y^2 - 1),\n",
       " (0, 1): 1,\n",
       " (1, 1): (-y^4 - y^2 - 1)/(-y^2),\n",
       " (2, 1): (y^4 + y^2 + 1)/y^2,\n",
       " (3, 1): 1,\n",
       " (0, 2): 1/2*y/(y^2 + 1),\n",
       " (1, 2): (-y^4 - y^2 - 1)/(-y^2),\n",
       " (2,\n",
       "  2): (y^12 + 3/2*y^10 + 2*y^8 + 3/2*y^6 + 2*y^4 + 3/2*y^2 + 1)/(-y^7 - y^5),\n",
       " (3, 2): (y^12 + y^10 + 3*y^8 + 3*y^6 + 3*y^4 + y^2 + 1)/y^6,\n",
       " (4,\n",
       "  2): (y^12 + 3/2*y^10 + 2*y^8 + 3/2*y^6 + 2*y^4 + 3/2*y^2 + 1)/(-y^7 - y^5),\n",
       " (0, 3): 1/3*y^2/(y^4 + y^2 + 1),\n",
       " (1, 3): 1,\n",
       " (2, 3): (y^12 + y^10 + 3*y^8 + 3*y^6 + 3*y^4 + y^2 + 1)/y^6,\n",
       " (3,\n",
       "  3): (-y^24 - 2*y^22 - 4*y^20 - 16/3*y^18 - 6*y^16 - 6*y^14 - 19/3*y^12 - 6*y^10 - 6*y^8 - 16/3*y^6 - 4*y^4 - 2*y^2 - 1)/(-y^14 - y^12 - y^10),\n",
       " (4,\n",
       "  3): (-y^24 - y^22 - 3*y^20 - 5*y^18 - 8*y^16 - 10*y^14 - 12*y^12 - 10*y^10 - 8*y^8 - 5*y^6 - 3*y^4 - y^2 - 1)/(-y^12),\n",
       " (0, 4): (-1/4*y^3)/(-y^6 - y^4 - y^2 - 1),\n",
       " (2,\n",
       "  4): (y^12 + 3/2*y^10 + 2*y^8 + 3/2*y^6 + 2*y^4 + 3/2*y^2 + 1)/(-y^7 - y^5),\n",
       " (3,\n",
       "  4): (-y^24 - y^22 - 3*y^20 - 5*y^18 - 8*y^16 - 10*y^14 - 12*y^12 - 10*y^10 - 8*y^8 - 5*y^6 - 3*y^4 - y^2 - 1)/(-y^12),\n",
       " (4,\n",
       "  4): (y^40 + 2*y^38 + 5*y^36 + 9*y^34 + 29/2*y^32 + 19*y^30 + 95/4*y^28 + 26*y^26 + 28*y^24 + 28*y^22 + 115/4*y^20 + 28*y^18 + 28*y^16 + 26*y^14 + 95/4*y^12 + 19*y^10 + 29/2*y^8 + 9*y^6 + 5*y^4 + 2*y^2 + 1)/(-y^23 - y^21 - y^19 - y^17)}"
      ]
     },
     "execution_count": 10,
     "metadata": {},
     "output_type": "execute_result"
    }
   ],
   "source": [
    "Omb3=W.rat_from_total(z)\n",
    "%time Omb3.dict()"
   ]
  },
  {
   "cell_type": "markdown",
   "id": "impaired-bunny",
   "metadata": {},
   "source": [
    "### Another example"
   ]
  },
  {
   "cell_type": "code",
   "execution_count": 11,
   "id": "favorite-details",
   "metadata": {},
   "outputs": [],
   "source": [
    "r=6\n",
    "Q=ChainQuiver(r)\n",
    "W=Q.wcs([1]*r)\n",
    "z=Stability([1]*r).randomize()"
   ]
  },
  {
   "cell_type": "code",
   "execution_count": 7,
   "id": "operating-thesis",
   "metadata": {},
   "outputs": [
    {
     "name": "stdout",
     "output_type": "stream",
     "text": [
      "CPU times: user 13.9 s, sys: 16.5 ms, total: 13.9 s\n",
      "Wall time: 13.9 s\n"
     ]
    },
    {
     "data": {
      "text/plain": [
       "{(1, 0, 0, 0, 0, 0): 1,\n",
       " (0, 1, 0, 0, 0, 0): 1,\n",
       " (0, 0, 1, 0, 0, 0): 1,\n",
       " (0, 0, 0, 1, 0, 0): 1,\n",
       " (0, 0, 1, 1, 0, 0): 1,\n",
       " (0, 0, 0, 0, 1, 0): 1,\n",
       " (0, 0, 0, 1, 1, 0): 1,\n",
       " (0, 0, 1, 1, 1, 0): 1,\n",
       " (0, 0, 0, 0, 0, 1): 1,\n",
       " (0, 0, 0, 1, 1, 1): 1,\n",
       " (0, 0, 1, 1, 1, 1): 1}"
      ]
     },
     "execution_count": 7,
     "metadata": {},
     "output_type": "execute_result"
    }
   ],
   "source": [
    "Omb1=attr_tree_formula(W,z,W.ratAtt_default())\n",
    "%time Omb1.dict()"
   ]
  },
  {
   "cell_type": "code",
   "execution_count": 8,
   "id": "worst-output",
   "metadata": {},
   "outputs": [
    {
     "name": "stdout",
     "output_type": "stream",
     "text": [
      "CPU times: user 781 ms, sys: 1.66 ms, total: 783 ms\n",
      "Wall time: 782 ms\n"
     ]
    },
    {
     "data": {
      "text/plain": [
       "{(1, 0, 0, 0, 0, 0): 1,\n",
       " (0, 1, 0, 0, 0, 0): 1,\n",
       " (0, 0, 1, 0, 0, 0): 1,\n",
       " (0, 0, 0, 1, 0, 0): 1,\n",
       " (0, 0, 1, 1, 0, 0): 1,\n",
       " (0, 0, 0, 0, 1, 0): 1,\n",
       " (0, 0, 0, 1, 1, 0): 1,\n",
       " (0, 0, 1, 1, 1, 0): 1,\n",
       " (0, 0, 0, 0, 0, 1): 1,\n",
       " (0, 0, 0, 1, 1, 1): 1,\n",
       " (0, 0, 1, 1, 1, 1): 1}"
      ]
     },
     "execution_count": 8,
     "metadata": {},
     "output_type": "execute_result"
    }
   ],
   "source": [
    "Omb2=flow_tree_formula(W,z,W.ratAtt_default())\n",
    "%time Omb2.dict()"
   ]
  },
  {
   "cell_type": "code",
   "execution_count": 12,
   "id": "surface-accessory",
   "metadata": {},
   "outputs": [
    {
     "name": "stdout",
     "output_type": "stream",
     "text": [
      "CPU times: user 174 ms, sys: 2.63 ms, total: 177 ms\n",
      "Wall time: 175 ms\n"
     ]
    },
    {
     "data": {
      "text/plain": [
       "{(1, 0, 0, 0, 0, 0): 1,\n",
       " (0, 1, 0, 0, 0, 0): 1,\n",
       " (1, 1, 0, 0, 0, 0): 1,\n",
       " (0, 0, 1, 0, 0, 0): 1,\n",
       " (0, 0, 0, 1, 0, 0): 1,\n",
       " (0, 0, 1, 1, 0, 0): 1,\n",
       " (0, 0, 0, 0, 1, 0): 1,\n",
       " (0, 0, 0, 1, 1, 0): 1,\n",
       " (0, 0, 1, 1, 1, 0): 1,\n",
       " (0, 0, 0, 0, 0, 1): 1,\n",
       " (0, 0, 0, 0, 1, 1): 1,\n",
       " (0, 0, 0, 1, 1, 1): 1,\n",
       " (0, 0, 1, 1, 1, 1): 1}"
      ]
     },
     "execution_count": 12,
     "metadata": {},
     "output_type": "execute_result"
    }
   ],
   "source": [
    "Omb3=W.rat_from_total(z)\n",
    "%time Omb3.dict()"
   ]
  },
  {
   "cell_type": "code",
   "execution_count": 13,
   "id": "pending-sweet",
   "metadata": {},
   "outputs": [],
   "source": [
    "r=7\n",
    "Q=ChainQuiver(r)\n",
    "W=Q.wcs([1]*r)\n",
    "z=Stability([1]*r).randomize()"
   ]
  },
  {
   "cell_type": "code",
   "execution_count": 11,
   "id": "tribal-railway",
   "metadata": {},
   "outputs": [
    {
     "name": "stdout",
     "output_type": "stream",
     "text": [
      "CPU times: user 7.74 s, sys: 9.06 ms, total: 7.75 s\n",
      "Wall time: 7.75 s\n"
     ]
    },
    {
     "data": {
      "text/plain": [
       "{(1, 0, 0, 0, 0, 0, 0): 1,\n",
       " (0, 1, 0, 0, 0, 0, 0): 1,\n",
       " (1, 1, 0, 0, 0, 0, 0): 1,\n",
       " (0, 0, 1, 0, 0, 0, 0): 1,\n",
       " (0, 1, 1, 0, 0, 0, 0): 1,\n",
       " (1, 1, 1, 0, 0, 0, 0): 1,\n",
       " (0, 0, 0, 1, 0, 0, 0): 1,\n",
       " (0, 0, 0, 0, 1, 0, 0): 1,\n",
       " (0, 0, 0, 0, 0, 1, 0): 1,\n",
       " (0, 0, 0, 0, 1, 1, 0): 1,\n",
       " (0, 0, 0, 1, 1, 1, 0): 1,\n",
       " (0, 0, 0, 0, 0, 0, 1): 1}"
      ]
     },
     "execution_count": 11,
     "metadata": {},
     "output_type": "execute_result"
    }
   ],
   "source": [
    "Omb2=flow_tree_formula(W,z,W.ratAtt_default())\n",
    "%time Omb2.dict()"
   ]
  },
  {
   "cell_type": "code",
   "execution_count": 14,
   "id": "affecting-category",
   "metadata": {},
   "outputs": [
    {
     "name": "stdout",
     "output_type": "stream",
     "text": [
      "CPU times: user 511 ms, sys: 2.78 ms, total: 514 ms\n",
      "Wall time: 512 ms\n"
     ]
    },
    {
     "data": {
      "text/plain": [
       "{(1, 0, 0, 0, 0, 0, 0): 1,\n",
       " (0, 1, 0, 0, 0, 0, 0): 1,\n",
       " (0, 0, 1, 0, 0, 0, 0): 1,\n",
       " (0, 1, 1, 0, 0, 0, 0): 1,\n",
       " (0, 0, 0, 1, 0, 0, 0): 1,\n",
       " (0, 0, 1, 1, 0, 0, 0): 1,\n",
       " (0, 1, 1, 1, 0, 0, 0): 1,\n",
       " (0, 0, 0, 0, 1, 0, 0): 1,\n",
       " (0, 0, 0, 0, 0, 1, 0): 1,\n",
       " (0, 0, 0, 0, 1, 1, 0): 1,\n",
       " (0, 0, 0, 0, 0, 0, 1): 1}"
      ]
     },
     "execution_count": 14,
     "metadata": {},
     "output_type": "execute_result"
    }
   ],
   "source": [
    "Omb3=W.rat_from_total(z)\n",
    "%time Omb3.dict()"
   ]
  },
  {
   "cell_type": "code",
   "execution_count": 15,
   "id": "measured-standard",
   "metadata": {},
   "outputs": [],
   "source": [
    "r=8\n",
    "Q=ChainQuiver(r)\n",
    "W=Q.wcs([1]*r)\n",
    "z=Stability([1]*r).randomize()"
   ]
  },
  {
   "cell_type": "code",
   "execution_count": 14,
   "id": "photographic-acrylic",
   "metadata": {},
   "outputs": [
    {
     "name": "stdout",
     "output_type": "stream",
     "text": [
      "CPU times: user 1min 39s, sys: 103 ms, total: 1min 39s\n",
      "Wall time: 1min 39s\n"
     ]
    },
    {
     "data": {
      "text/plain": [
       "0"
      ]
     },
     "execution_count": 14,
     "metadata": {},
     "output_type": "execute_result"
    }
   ],
   "source": [
    "Omb2=flow_tree_formula(W,z,W.ratAtt_default())\n",
    "%time Omb2([1]*r)"
   ]
  },
  {
   "cell_type": "code",
   "execution_count": 19,
   "id": "nuclear-layer",
   "metadata": {},
   "outputs": [
    {
     "name": "stdout",
     "output_type": "stream",
     "text": [
      "CPU times: user 292 ms, sys: 2.3 ms, total: 294 ms\n",
      "Wall time: 293 ms\n"
     ]
    },
    {
     "data": {
      "text/plain": [
       "0"
      ]
     },
     "execution_count": 19,
     "metadata": {},
     "output_type": "execute_result"
    }
   ],
   "source": [
    "Omb3=W.rat_from_total(z)\n",
    "%time Omb3([1]*r)"
   ]
  },
  {
   "cell_type": "code",
   "execution_count": null,
   "id": "previous-token",
   "metadata": {},
   "outputs": [],
   "source": []
  }
 ],
 "metadata": {
  "kernelspec": {
   "display_name": "SageMath 9.2",
   "language": "sage",
   "name": "sagemath"
  },
  "language_info": {
   "codemirror_mode": {
    "name": "ipython",
    "version": 3
   },
   "file_extension": ".py",
   "mimetype": "text/x-python",
   "name": "python",
   "nbconvert_exporter": "python",
   "pygments_lexer": "ipython3",
   "version": "3.8.5"
  }
 },
 "nbformat": 4,
 "nbformat_minor": 5
}
